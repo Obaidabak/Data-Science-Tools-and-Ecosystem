{
 "cells": [
  {
   "cell_type": "code",
   "execution_count": null,
   "id": "823199f4-1995-4650-9a62-265e4bd2fa64",
   "metadata": {},
   "outputs": [],
   "source": [
    "title of the notebook"
   ]
  },
  {
   "cell_type": "markdown",
   "id": "d23b6ba8-7596-4dfd-a450-c63f56bbbf43",
   "metadata": {},
   "source": [
    "# <H1>Data Science Tools and Ecosystem"
   ]
  },
  {
   "cell_type": "code",
   "execution_count": null,
   "id": "90f1c53f-1f7f-40a8-b6a6-f3a77671f082",
   "metadata": {},
   "outputs": [],
   "source": [
    "introduction"
   ]
  },
  {
   "cell_type": "markdown",
   "id": "6499c4a7-a6e0-4da5-9f6a-79f4fb74ab00",
   "metadata": {},
   "source": [
    "Data Science Tools and Ecosystem are summarized"
   ]
  },
  {
   "cell_type": "code",
   "execution_count": null,
   "id": "82a6d5d0-864b-4033-a225-d3d13a7bfecb",
   "metadata": {},
   "outputs": [],
   "source": [
    "Objectives"
   ]
  },
  {
   "cell_type": "markdown",
   "id": "a9257c59-90c5-4eb3-82a2-72e27d8e9b9e",
   "metadata": {},
   "source": [
    "-what is data science\n",
    "-big data\n",
    "-how can combanies use data science to improve"
   ]
  },
  {
   "cell_type": "code",
   "execution_count": null,
   "id": "fcda0888-530d-401a-a6a5-fa0cdf19cc36",
   "metadata": {},
   "outputs": [],
   "source": [
    "data science languages"
   ]
  },
  {
   "cell_type": "markdown",
   "id": "f9a46271-670b-4238-8b9c-df3bd2879e53",
   "metadata": {},
   "source": [
    "data science languages : python,R,SQL,Java,Scala,Julia"
   ]
  },
  {
   "cell_type": "code",
   "execution_count": null,
   "id": "18f61354-ee3f-440e-905c-a7c308a0067c",
   "metadata": {},
   "outputs": [],
   "source": [
    "data science libraries"
   ]
  },
  {
   "cell_type": "markdown",
   "id": "b7e38025-a35a-401a-99df-688bdff57c11",
   "metadata": {},
   "source": [
    "data science libraries: \n",
    "-Numpy\n",
    "-Pandas\n",
    "-Matplotlib\n",
    "-Tensorflow\n",
    "-keras"
   ]
  },
  {
   "cell_type": "markdown",
   "id": "9b0e7dfc-d103-4d75-849d-3c38543c1732",
   "metadata": {},
   "source": [
    "table of Data Science tools"
   ]
  },
  {
   "cell_type": "code",
   "execution_count": 9,
   "id": "0084b961-2563-4258-b77d-5b7fa1f13c26",
   "metadata": {},
   "outputs": [],
   "source": [
    "import pandas as pd"
   ]
  },
  {
   "cell_type": "code",
   "execution_count": 13,
   "id": "851ff5db-15d9-42e5-8fa7-c66efdb7e0a7",
   "metadata": {},
   "outputs": [
    {
     "data": {
      "text/html": [
       "<div>\n",
       "<style scoped>\n",
       "    .dataframe tbody tr th:only-of-type {\n",
       "        vertical-align: middle;\n",
       "    }\n",
       "\n",
       "    .dataframe tbody tr th {\n",
       "        vertical-align: top;\n",
       "    }\n",
       "\n",
       "    .dataframe thead th {\n",
       "        text-align: right;\n",
       "    }\n",
       "</style>\n",
       "<table border=\"1\" class=\"dataframe\">\n",
       "  <thead>\n",
       "    <tr style=\"text-align: right;\">\n",
       "      <th></th>\n",
       "      <th>data science tools</th>\n",
       "    </tr>\n",
       "  </thead>\n",
       "  <tbody>\n",
       "    <tr>\n",
       "      <th>0</th>\n",
       "      <td>Data mangement</td>\n",
       "    </tr>\n",
       "    <tr>\n",
       "      <th>1</th>\n",
       "      <td>data integration and transformation</td>\n",
       "    </tr>\n",
       "    <tr>\n",
       "      <th>2</th>\n",
       "      <td>data visualization</td>\n",
       "    </tr>\n",
       "    <tr>\n",
       "      <th>3</th>\n",
       "      <td>model building</td>\n",
       "    </tr>\n",
       "    <tr>\n",
       "      <th>4</th>\n",
       "      <td>model monetering</td>\n",
       "    </tr>\n",
       "    <tr>\n",
       "      <th>5</th>\n",
       "      <td>data asset manfment</td>\n",
       "    </tr>\n",
       "    <tr>\n",
       "      <th>6</th>\n",
       "      <td>deployment enviroment</td>\n",
       "    </tr>\n",
       "  </tbody>\n",
       "</table>\n",
       "</div>"
      ],
      "text/plain": [
       "                    data science tools\n",
       "0                       Data mangement\n",
       "1  data integration and transformation\n",
       "2                   data visualization\n",
       "3                       model building\n",
       "4                     model monetering\n",
       "5                  data asset manfment\n",
       "6                deployment enviroment"
      ]
     },
     "execution_count": 13,
     "metadata": {},
     "output_type": "execute_result"
    }
   ],
   "source": [
    "data = {'data science tools': ['Data mangement', 'data integration and transformation', 'data visualization', 'model building', 'model monetering', 'data asset manfment', 'deployment enviroment',]}\n",
    "df = pd.DataFrame(data)\n",
    "df"
   ]
  },
  {
   "cell_type": "code",
   "execution_count": null,
   "id": "68b6371f-0af2-49a4-ad1c-bad468bebed6",
   "metadata": {},
   "outputs": [],
   "source": [
    "arithmetic expression "
   ]
  },
  {
   "cell_type": "markdown",
   "id": "337121aa-bf4f-4997-9fb9-58a729be0afd",
   "metadata": {},
   "source": [
    "5+5=10"
   ]
  },
  {
   "cell_type": "code",
   "execution_count": null,
   "id": "bbbd5883-7ae0-4beb-9e15-def633b3fe08",
   "metadata": {},
   "outputs": [],
   "source": [
    "multiply and add numbers."
   ]
  },
  {
   "cell_type": "code",
   "execution_count": 1,
   "id": "5162b643-e909-482f-96af-13a00ecba3e9",
   "metadata": {},
   "outputs": [
    {
     "data": {
      "text/plain": [
       "-11"
      ]
     },
     "execution_count": 1,
     "metadata": {},
     "output_type": "execute_result"
    }
   ],
   "source": [
    "5-4*4"
   ]
  },
  {
   "cell_type": "markdown",
   "id": "7c6525f4-0e3b-4046-a992-792227b61cd9",
   "metadata": {},
   "source": [
    "This will convert 200 minutes to hours by diving by 60"
   ]
  },
  {
   "cell_type": "code",
   "execution_count": 2,
   "id": "3b2a44b7-0322-4586-8adb-e2d86e95eb49",
   "metadata": {},
   "outputs": [
    {
     "name": "stdout",
     "output_type": "stream",
     "text": [
      "200 minutes is equal to 3.3333333333333335 hours\n"
     ]
    }
   ],
   "source": [
    "minutes = 200\n",
    "hours = minutes / 60\n",
    "\n",
    "print(\"200 minutes is equal to\", hours, \"hours\")\n"
   ]
  },
  {
   "cell_type": "markdown",
   "id": "c0b2292d-84e5-4855-baf6-f89bc168c201",
   "metadata": {},
   "source": [
    "# <H2>Obaida Bakjaji"
   ]
  },
  {
   "cell_type": "code",
   "execution_count": null,
   "id": "d7eae9b2-2a38-4c5e-851f-0869ce2e62f5",
   "metadata": {},
   "outputs": [],
   "source": []
  }
 ],
 "metadata": {
  "kernelspec": {
   "display_name": "Python",
   "language": "python",
   "name": "conda-env-python-py"
  },
  "language_info": {
   "codemirror_mode": {
    "name": "ipython",
    "version": 3
   },
   "file_extension": ".py",
   "mimetype": "text/x-python",
   "name": "python",
   "nbconvert_exporter": "python",
   "pygments_lexer": "ipython3",
   "version": "3.7.12"
  }
 },
 "nbformat": 4,
 "nbformat_minor": 5
}
