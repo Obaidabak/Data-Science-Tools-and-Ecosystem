{
 "cells": [
  {
   "cell_type": "code",
   "execution_count": null,
   "id": "823199f4-1995-4650-9a62-265e4bd2fa64",
   "metadata": {},
   "outputs": [],
   "source": [
    "title of the notebook"
   ]
  },
  {
   "cell_type": "markdown",
   "id": "d23b6ba8-7596-4dfd-a450-c63f56bbbf43",
   "metadata": {},
   "source": [
    "# <H1>Data Science Tools and Ecosystem"
   ]
  },
  {
   "cell_type": "code",
   "execution_count": null,
   "id": "90f1c53f-1f7f-40a8-b6a6-f3a77671f082",
   "metadata": {},
   "outputs": [],
   "source": [
    "introduction"
   ]
  },
  {
   "cell_type": "markdown",
   "id": "6499c4a7-a6e0-4da5-9f6a-79f4fb74ab00",
   "metadata": {},
   "source": [
    "Data Science Tools and Ecosystem are summarized"
   ]
  },
  {
   "cell_type": "code",
   "execution_count": null,
   "id": "82a6d5d0-864b-4033-a225-d3d13a7bfecb",
   "metadata": {},
   "outputs": [],
   "source": [
    "Objectives : catogries of data science tools"
   ]
  },
  {
   "cell_type": "markdown",
   "id": "a9257c59-90c5-4eb3-82a2-72e27d8e9b9e",
   "metadata": {},
   "source": [
    "# data mangment \n",
    "# data visualization\n",
    "# model deployment"
   ]
  },
  {
   "cell_type": "code",
   "execution_count": null,
   "id": "fcda0888-530d-401a-a6a5-fa0cdf19cc36",
   "metadata": {},
   "outputs": [],
   "source": [
    "data science languages"
   ]
  },
  {
   "cell_type": "code",
   "execution_count": 4,
   "id": "5ddcb4c7-4cfc-46fe-aeeb-90c9e6f2f192",
   "metadata": {},
   "outputs": [
    {
     "name": "stdout",
     "output_type": "stream",
     "text": [
      "['python', 'R', 'SQL']\n"
     ]
    }
   ],
   "source": [
    "order=['python','R','SQL']\n",
    "print(order)"
   ]
  },
  {
   "cell_type": "code",
   "execution_count": null,
   "id": "18f61354-ee3f-440e-905c-a7c308a0067c",
   "metadata": {},
   "outputs": [],
   "source": [
    "data science libraries"
   ]
  },
  {
   "cell_type": "code",
   "execution_count": 22,
   "id": "498b6bd3-13da-44c0-a8cf-7dac0ffe9235",
   "metadata": {},
   "outputs": [
    {
     "name": "stdout",
     "output_type": "stream",
     "text": [
      "['Numpy', 'Pandas', 'Matplotlib']\n"
     ]
    }
   ],
   "source": [
    "order=['Numpy','Pandas','Matplotlib']\n",
    "print(order)"
   ]
  },
  {
   "cell_type": "markdown",
   "id": "9b0e7dfc-d103-4d75-849d-3c38543c1732",
   "metadata": {},
   "source": [
    "table of Data Science tools"
   ]
  },
  {
   "cell_type": "code",
   "execution_count": 21,
   "id": "0084b961-2563-4258-b77d-5b7fa1f13c26",
   "metadata": {},
   "outputs": [
    {
     "data": {
      "text/html": [
       "<div>\n",
       "<style scoped>\n",
       "    .dataframe tbody tr th:only-of-type {\n",
       "        vertical-align: middle;\n",
       "    }\n",
       "\n",
       "    .dataframe tbody tr th {\n",
       "        vertical-align: top;\n",
       "    }\n",
       "\n",
       "    .dataframe thead th {\n",
       "        text-align: right;\n",
       "    }\n",
       "</style>\n",
       "<table border=\"1\" class=\"dataframe\">\n",
       "  <thead>\n",
       "    <tr style=\"text-align: right;\">\n",
       "      <th></th>\n",
       "      <th>data science tools</th>\n",
       "    </tr>\n",
       "  </thead>\n",
       "  <tbody>\n",
       "    <tr>\n",
       "      <th>0</th>\n",
       "      <td>apache airflow</td>\n",
       "    </tr>\n",
       "    <tr>\n",
       "      <th>1</th>\n",
       "      <td>kube flow</td>\n",
       "    </tr>\n",
       "    <tr>\n",
       "      <th>2</th>\n",
       "      <td>Akafka</td>\n",
       "    </tr>\n",
       "  </tbody>\n",
       "</table>\n",
       "</div>"
      ],
      "text/plain": [
       "  data science tools\n",
       "0     apache airflow\n",
       "1          kube flow\n",
       "2             Akafka"
      ]
     },
     "execution_count": 21,
     "metadata": {},
     "output_type": "execute_result"
    }
   ],
   "source": [
    "import pandas as pd\n",
    "\n",
    "data = {'data science tools': ['apache airflow', 'kube flow', 'Akafka',]}\n",
    "df = pd.DataFrame(data)\n",
    "df"
   ]
  },
  {
   "cell_type": "markdown",
   "id": "337121aa-bf4f-4997-9fb9-58a729be0afd",
   "metadata": {},
   "source": [
    "# arithmetic expression"
   ]
  },
  {
   "cell_type": "code",
   "execution_count": 1,
   "id": "5162b643-e909-482f-96af-13a00ecba3e9",
   "metadata": {},
   "outputs": [
    {
     "data": {
      "text/plain": [
       "-11"
      ]
     },
     "execution_count": 1,
     "metadata": {},
     "output_type": "execute_result"
    }
   ],
   "source": [
    "5-4*4"
   ]
  },
  {
   "cell_type": "markdown",
   "id": "7c6525f4-0e3b-4046-a992-792227b61cd9",
   "metadata": {},
   "source": [
    "# This will convert 200 minutes to hours by diving by 60"
   ]
  },
  {
   "cell_type": "code",
   "execution_count": 2,
   "id": "3b2a44b7-0322-4586-8adb-e2d86e95eb49",
   "metadata": {},
   "outputs": [
    {
     "name": "stdout",
     "output_type": "stream",
     "text": [
      "200 minutes is equal to 3.3333333333333335 hours\n"
     ]
    }
   ],
   "source": [
    "minutes = 200\n",
    "hours = minutes / 60\n",
    "\n",
    "print(\"200 minutes is equal to\", hours, \"hours\")\n"
   ]
  },
  {
   "cell_type": "code",
   "execution_count": null,
   "id": "d7eae9b2-2a38-4c5e-851f-0869ce2e62f5",
   "metadata": {},
   "outputs": [],
   "source": [
    "# <H2> Author's name"
   ]
  }
 ],
 "metadata": {
  "kernelspec": {
   "display_name": "Python",
   "language": "python",
   "name": "conda-env-python-py"
  },
  "language_info": {
   "codemirror_mode": {
    "name": "ipython",
    "version": 3
   },
   "file_extension": ".py",
   "mimetype": "text/x-python",
   "name": "python",
   "nbconvert_exporter": "python",
   "pygments_lexer": "ipython3",
   "version": "3.7.12"
  }
 },
 "nbformat": 4,
 "nbformat_minor": 5
}
